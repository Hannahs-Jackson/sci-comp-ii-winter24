{
 "cells": [
  {
   "attachments": {},
   "cell_type": "markdown",
   "metadata": {},
   "source": [
    "# `Flax`\n",
    "\n",
    "You may have heard of `TensorFlow`, one of the first hugely popular libraries for computing data flow graphs -- operations which we've effectively been doing much of this class, and are the underpinning of neural networks.  `Flax` is effectively `TensorFlow` build on `JAX`, and will be our main library for constructing and training neural networks.\n",
    "\n",
    "If you don't already have it installed (e.g., using the codespace), you can install it with:\n",
    "\n",
    "```bash\n",
    "!pip install -q flax\n",
    "```"
   ]
  },
  {
   "cell_type": "code",
   "execution_count": 1,
   "metadata": {},
   "outputs": [],
   "source": [
    "import jax\n",
    "from jax import random, numpy as jnp\n",
    "import flax\n",
    "from flax import linen as nn\n",
    "\n",
    "from numpy import genfromtxt\n",
    "import matplotlib.pyplot as plt"
   ]
  },
  {
   "attachments": {},
   "cell_type": "markdown",
   "metadata": {},
   "source": [
    "# Linear Regression as a Neural Network\n",
    "\n",
    "We'll repeat (again) our linear regression example, but this time using `Flax` perform linear regression using a single dense neural network layer.\n",
    "\n",
    "First let's read in the data."
   ]
  },
  {
   "cell_type": "code",
   "execution_count": 2,
   "metadata": {},
   "outputs": [
    {
     "data": {
      "image/png": "[encoded data removed]",
      "text/plain": [
       "<Figure size 640x480 with 1 Axes>"
      ]
     },
     "metadata": {},
     "output_type": "display_data"
    }
   ],
   "source": [
    "data = genfromtxt('../data/data_yerr.dat', names=True, comments='#', delimiter='&')\n",
    "\n",
    "train_X = jnp.array(data['x'])\n",
    "train_Y = jnp.array(data['y'])\n",
    "\n",
    "n_samples = train_X.shape[0]\n",
    "plt.scatter(train_X, train_Y)\n",
    "plt.xlabel('$x$')\n",
    "plt.ylabel('$y$');"
   ]
  },
  {
   "attachments": {},
   "cell_type": "markdown",
   "metadata": {},
   "source": [
    "Let's reshape:"
   ]
  },
  {
   "cell_type": "code",
   "execution_count": 3,
   "metadata": {},
   "outputs": [],
   "source": [
    "X = data['x'].reshape(-1, 1)\n",
    "y = data['y'].reshape(-1, 1)\n",
    "X_tst = jnp.linspace(X.min(), X.max(), 100).reshape(-1, 1)"
   ]
  },
  {
   "cell_type": "markdown",
   "metadata": {},
   "source": [
    "###### turns the dataset into a array datasets where in our case we have only one input (x is input) yielding one output (y is output), but it could be the case where it has two input parameters (x,y are inputs) and yields one output (z is output)"
   ]
  },
  {
   "attachments": {},
   "cell_type": "markdown",
   "metadata": {},
   "source": [
    "To replicate linear regression we just need a single dense layer with a single output.  We'll use the `flax.nn` module to define our model."
   ]
  },
  {
   "cell_type": "code",
   "execution_count": 4,
   "metadata": {},
   "outputs": [],
   "source": [
    "# We create one dense layer instance, where 'features' sets the output dimension\n",
    "model = nn.Dense(features=1)"
   ]
  },
  {
   "cell_type": "markdown",
   "metadata": {},
   "source": [
    "###### dense meaning each node in a layer is connected to each node in the next layer. In our case all x_input data is connected to a single node in the DNN then outputs our information to various y_output data"
   ]
  },
  {
   "attachments": {},
   "cell_type": "markdown",
   "metadata": {},
   "source": [
    "The models don't actually store the parameters, so we need to initialize them with the `init` method.  We'll use the `jax.random.PRNGKey` to seed the random number generator as we have before."
   ]
  },
  {
   "cell_type": "code",
   "execution_count": 5,
   "metadata": {},
   "outputs": [
    {
     "data": {
      "text/plain": [
       "{'params': {'kernel': Array([[2.1127698]], dtype=float32),\n",
       "  'bias': Array([0.], dtype=float32)}}"
      ]
     },
     "execution_count": 5,
     "metadata": {},
     "output_type": "execute_result"
    }
   ],
   "source": [
    "key1, key2 = random.split(random.PRNGKey(0)) # random keys\n",
    "params = model.init(key2, X[0])       # provide an example input so it can infer the shapes\n",
    "params"
   ]
  },
  {
   "attachments": {},
   "cell_type": "markdown",
   "metadata": {},
   "source": [
    "We can see that `params` has a kernel (i.e., weights, or slope in this case) and bias (y-intercept), initialized to random and zero values, respectively."
   ]
  },
  {
   "attachments": {},
   "cell_type": "markdown",
   "metadata": {},
   "source": [
    "If we want to compute a forward pass of our model (i.e., plug in a `x` value and get a predicted `y` value), we can use the `apply` method.  Remember the parameters (slope and y-intercept) aren't stored in the model, so we need to provide them."
   ]
  },
  {
   "cell_type": "code",
   "execution_count": 6,
   "metadata": {},
   "outputs": [
    {
     "data": {
      "text/plain": [
       "Array([424.66675], dtype=float32)"
      ]
     },
     "execution_count": 6,
     "metadata": {},
     "output_type": "execute_result"
    }
   ],
   "source": [
    "model.apply(params, X[0]) # example application of the model"
   ]
  },
  {
   "attachments": {},
   "cell_type": "markdown",
   "metadata": {},
   "source": [
    "## Cost Function\n",
    "\n",
    "Recall that performing linear regression is equivalent to minimizing the mean squared error (MSE) between the model predictions and the data.\n",
    "\n",
    "We're going to minimize the MSE using gradient descent, and we'll write everything from scratch as an excuse to learn how to use `Flax`.\n",
    "\n",
    "First the cost function.  We're going to have `JAX` do some optimization with just-in-time (JIT) compiling (see [here](https://jax.readthedocs.io/en/latest/notebooks/quickstart.html#using-jit-to-speed-up-functions) for gorier details)."
   ]
  },
  {
   "cell_type": "code",
   "execution_count": 21,
   "metadata": {},
   "outputs": [
    {
     "data": {
      "text/plain": [
       "{'params': {'bias': Array([0.03005883], dtype=float32),\n",
       "  'kernel': Array([[2.2589657]], dtype=float32)}}"
      ]
     },
     "execution_count": 21,
     "metadata": {},
     "output_type": "execute_result"
    }
   ],
   "source": [
    "params"
   ]
  },
  {
   "cell_type": "code",
   "execution_count": 7,
   "metadata": {},
   "outputs": [],
   "source": [
    "@jax.jit\n",
    "def mse(params, x_batched, y_batched):\n",
    "    # the squared loss for a single (x, y) pair\n",
    "    def squared_error(x, y):\n",
    "        pred = model.apply(params, x)\n",
    "        return jnp.inner(y - pred, y - pred)/2.0\n",
    "    # vectorize this to compute the averae loss over a batch of data\n",
    "    return jnp.mean(jax.vmap(squared_error)(x_batched, y_batched), axis=0)"
   ]
  },
  {
   "cell_type": "markdown",
   "metadata": {},
   "source": [
    "Mean square error function "
   ]
  },
  {
   "cell_type": "code",
   "execution_count": 8,
   "metadata": {},
   "outputs": [
    {
     "data": {
      "text/plain": [
       "Array(9112.818, dtype=float32)"
      ]
     },
     "execution_count": 8,
     "metadata": {},
     "output_type": "execute_result"
    }
   ],
   "source": [
    "mse(params, X, y)"
   ]
  },
  {
   "cell_type": "code",
   "execution_count": 9,
   "metadata": {},
   "outputs": [
    {
     "name": "stdout",
     "output_type": "stream",
     "text": [
      "12.2 µs ± 171 ns per loop (mean ± std. dev. of 7 runs, 100,000 loops each)\n"
     ]
    }
   ],
   "source": [
    "%timeit mse(params, X, y)"
   ]
  },
  {
   "attachments": {},
   "cell_type": "markdown",
   "metadata": {},
   "source": [
    "It works, and it's fast!  Try commenting out the `@jax.jit` decorator and rerun the two cells above to compare run times.\n",
    "\n",
    "## Gradient Decent\n",
    "\n",
    "Recall the algorithm for gradient decent:\n",
    "$$\n",
    "\\mathrm{repeat~until~convergence} \\{\\\\\n",
    "\\theta_j = \\theta_j - \\alpha \\frac{\\partial}{\\partial\\theta_j}J(\\theta_0, \\theta_1) \\mathrm{~~~~for~}j=0\\mathrm{~and~}j=1\n",
    "\\\\\\}\n",
    "$$\n",
    "\n",
    "where $\\alpha$ is the *learning rate*.\n",
    "\n",
    "Remember that one of `JAX`'s superpowers is that it can automatically compute gradients of functions.  `jax.value_and_grad()` will give us a function that computes the value and gradient of our MSE cost function for us."
   ]
  },
  {
   "cell_type": "code",
   "execution_count": 10,
   "metadata": {},
   "outputs": [
    {
     "data": {
      "text/plain": [
       "(Array(9112.818, dtype=float32),\n",
       " {'params': {'bias': Array([-53.6239], dtype=float32),\n",
       "   'kernel': Array([[-4828.3003]], dtype=float32)}})"
      ]
     },
     "execution_count": 10,
     "metadata": {},
     "output_type": "execute_result"
    }
   ],
   "source": [
    "loss_grad_fn = jax.value_and_grad(mse)\n",
    "loss_grad_fn(params, X, y)"
   ]
  },
  {
   "attachments": {},
   "cell_type": "markdown",
   "metadata": {},
   "source": [
    "Let's use it to update parameters during gradient decent."
   ]
  },
  {
   "cell_type": "code",
   "execution_count": 11,
   "metadata": {},
   "outputs": [],
   "source": [
    "learning_rate = 0.00001 # Gradient descent step size\n",
    "\n",
    "@jax.jit\n",
    "def update_params(params, learning_rate, grads):\n",
    "    params = jax.tree_util.tree_map(\n",
    "        lambda p, g: p - learning_rate * g, params, grads)\n",
    "    return params"
   ]
  },
  {
   "attachments": {},
   "cell_type": "markdown",
   "metadata": {},
   "source": [
    "...and finally put it all together:"
   ]
  },
  {
   "cell_type": "code",
   "execution_count": 12,
   "metadata": {},
   "outputs": [
    {
     "name": "stdout",
     "output_type": "stream",
     "text": [
      "Step 0, loss 9112.818359375\n",
      "Step 10, loss 8759.5146484375\n",
      "Step 20, loss 8759.3154296875\n",
      "Step 30, loss 8759.236328125\n",
      "Step 40, loss 8759.1552734375\n",
      "Step 50, loss 8759.076171875\n",
      "Step 60, loss 8758.9951171875\n",
      "Step 70, loss 8758.916015625\n",
      "Step 80, loss 8758.8359375\n",
      "Step 90, loss 8758.755859375\n"
     ]
    }
   ],
   "source": [
    "loss_vals = []\n",
    "for step in range(100):\n",
    "    loss_val, grads = loss_grad_fn(params, X, y)\n",
    "    params = update_params(params, learning_rate, grads)\n",
    "    if step % 10 == 0: # print every 10 steps\n",
    "        print(f\"Step {step}, loss {loss_val}\")\n",
    "    loss_vals.append(loss_val)"
   ]
  },
  {
   "cell_type": "code",
   "execution_count": 13,
   "metadata": {},
   "outputs": [
    {
     "data": {
      "image/png": "[encoded data removed]",
      "text/plain": [
       "<Figure size 640x480 with 1 Axes>"
      ]
     },
     "metadata": {},
     "output_type": "display_data"
    }
   ],
   "source": [
    "plt.plot(loss_vals);"
   ]
  },
  {
   "cell_type": "code",
   "execution_count": 14,
   "metadata": {},
   "outputs": [
    {
     "data": {
      "image/png": "[encoded data removed]",
      "text/plain": [
       "<Figure size 640x480 with 1 Axes>"
      ]
     },
     "metadata": {},
     "output_type": "display_data"
    }
   ],
   "source": [
    "plt.scatter(X, y)\n",
    "plt.plot(X_tst, model.apply(params, X_tst));"
   ]
  },
  {
   "attachments": {},
   "cell_type": "markdown",
   "metadata": {},
   "source": [
    "## Fancier Optimization\n"
   ]
  },
  {
   "cell_type": "code",
   "execution_count": 15,
   "metadata": {},
   "outputs": [],
   "source": [
    "import optax\n",
    "tx = optax.adam(learning_rate=learning_rate)\n",
    "opt_state = tx.init(params)\n",
    "loss_grad_fn = jax.value_and_grad(mse)"
   ]
  },
  {
   "cell_type": "code",
   "execution_count": 16,
   "metadata": {},
   "outputs": [
    {
     "name": "stdout",
     "output_type": "stream",
     "text": [
      "Loss step 0:  8758.676\n",
      "Loss step 10:  8758.674\n",
      "Loss step 20:  8758.671\n",
      "Loss step 30:  8758.668\n",
      "Loss step 40:  8758.665\n",
      "Loss step 50:  8758.662\n",
      "Loss step 60:  8758.659\n",
      "Loss step 70:  8758.656\n",
      "Loss step 80:  8758.652\n",
      "Loss step 90:  8758.651\n",
      "Loss step 100:  8758.648\n"
     ]
    }
   ],
   "source": [
    "for i in range(101):\n",
    "  loss_val, grads = loss_grad_fn(params, X, y)\n",
    "  updates, opt_state = tx.update(grads, opt_state)\n",
    "  params = optax.apply_updates(params, updates)\n",
    "  if i % 10 == 0:\n",
    "    print('Loss step {}: '.format(i), loss_val)\n"
   ]
  },
  {
   "cell_type": "code",
   "execution_count": null,
   "metadata": {},
   "outputs": [],
   "source": []
  }
 ],
 "metadata": {
  "kernelspec": {
   "display_name": "Python 3 (ipykernel)",
   "language": "python",
   "name": "python3"
  },
  "language_info": {
   "codemirror_mode": {
    "name": "ipython",
    "version": 3
   },
   "file_extension": ".py",
   "mimetype": "text/x-python",
   "name": "python",
   "nbconvert_exporter": "python",
   "pygments_lexer": "ipython3",
   "version": "3.11.7"
  }
 },
 "nbformat": 4,
 "nbformat_minor": 4
}
